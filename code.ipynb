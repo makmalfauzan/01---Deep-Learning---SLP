{
  "cells": [
    {
      "cell_type": "markdown",
      "metadata": {
        "id": "9GkvC8Uxz_es"
      },
      "source": [
        "**CLASS DEFINITION**"
      ]
    },
    {
      "cell_type": "code",
      "execution_count": 1,
      "metadata": {
        "id": "NSnRYuI_oxdG"
      },
      "outputs": [],
      "source": [
        "import numpy as np\n",
        "import matplotlib.pyplot as plt\n",
        "import pandas as pd\n",
        "from sklearn.preprocessing import StandardScaler, LabelEncoder\n",
        "from sklearn.model_selection import train_test_split\n",
        "\n",
        "class SingleLayerPerceptron:\n",
        "    def __init__(self, learning_rate=0.1, epochs=5, initial_weight=0.5):\n",
        "        self.learning_rate = learning_rate\n",
        "        self.epochs = epochs\n",
        "        self.initial_weight = initial_weight\n",
        "        self.weights = None\n",
        "        self.bias = None\n",
        "\n",
        "        # Training history\n",
        "        self.train_accuracy_history = []\n",
        "        self.train_loss_history = []\n",
        "        self.val_accuracy_history = []\n",
        "        self.val_loss_history = []\n",
        "\n",
        "    def initialize_weights(self, n_features):\n",
        "        \"\"\"Initialize weights and bias with specified initial value\"\"\"\n",
        "        self.weights = np.full(n_features, self.initial_weight, dtype=float)\n",
        "        self.bias = self.initial_weight\n",
        "\n",
        "    def activation_function(self, z):\n",
        "        \"\"\"Sigmoid activation function\"\"\"\n",
        "        z = np.clip(z, -500, 500)\n",
        "        return 1.0 / (1.0 + np.exp(-z))\n",
        "\n",
        "    def forward_pass(self, X):\n",
        "        \"\"\"Forward pass through the network\"\"\"\n",
        "        z = np.dot(X, self.weights) + self.bias\n",
        "        return self.activation_function(z)\n",
        "\n",
        "    def compute_mse_loss(self, y_true, y_pred):\n",
        "        \"\"\"Compute Mean Square Error loss\"\"\"\n",
        "        return np.mean((y_true - y_pred) ** 2)\n",
        "\n",
        "    def compute_accuracy(self, y_true, y_pred):\n",
        "        \"\"\"Compute classification accuracy\"\"\"\n",
        "        y_pred_binary = (y_pred >= 0.5).astype(int)\n",
        "        return np.mean(y_true == y_pred_binary)\n",
        "\n",
        "    def fit(self, X_train, y_train, X_val, y_val):\n",
        "        \"\"\"Train the Single Layer Perceptron with validation\"\"\"\n",
        "        n_samples, n_features = X_train.shape\n",
        "        self.initialize_weights(n_features)\n",
        "\n",
        "        print(f\"Training SLP with {n_samples} training samples and {len(X_val)} validation samples\")\n",
        "        print(f\"Features: {n_features}\")\n",
        "        print(f\"Initial weights: {self.weights}\")\n",
        "        print(f\"Initial bias: {self.bias}\")\n",
        "        print(\"-\" * 80)\n",
        "\n",
        "        for epoch in range(self.epochs):\n",
        "            # Training - Forward pass\n",
        "            y_train_pred = self.forward_pass(X_train)\n",
        "\n",
        "            # Training metrics\n",
        "            train_loss = self.compute_mse_loss(y_train, y_train_pred)\n",
        "            train_accuracy = self.compute_accuracy(y_train, y_train_pred)\n",
        "\n",
        "            # Validation - Forward pass (no training)\n",
        "            y_val_pred = self.forward_pass(X_val)\n",
        "            val_loss = self.compute_mse_loss(y_val, y_val_pred)\n",
        "            val_accuracy = self.compute_accuracy(y_val, y_val_pred)\n",
        "\n",
        "            # Store metrics\n",
        "            self.train_loss_history.append(train_loss)\n",
        "            self.train_accuracy_history.append(train_accuracy)\n",
        "            self.val_loss_history.append(val_loss)\n",
        "            self.val_accuracy_history.append(val_accuracy)\n",
        "\n",
        "            # Compute gradients (only on training data)\n",
        "            error = y_train_pred - y_train\n",
        "\n",
        "            # Update weights and bias using gradient descent\n",
        "            weight_gradient = np.dot(X_train.T, error) / n_samples\n",
        "            bias_gradient = np.mean(error)\n",
        "\n",
        "            self.weights -= self.learning_rate * weight_gradient\n",
        "            self.bias -= self.learning_rate * bias_gradient\n",
        "\n",
        "            print(f\"Epoch {epoch + 1}/{self.epochs}\")\n",
        "            print(f\"  Train - Loss: {train_loss:.4f}, Accuracy: {train_accuracy:.4f}\")\n",
        "            print(f\"  Val   - Loss: {val_loss:.4f}, Accuracy: {val_accuracy:.4f}\")\n",
        "            print(\"-\" * 50)\n",
        "\n",
        "        print(\"Training completed!\")\n",
        "\n",
        "    def predict(self, X):\n",
        "        \"\"\"Make predictions\"\"\"\n",
        "        y_pred = self.forward_pass(X)\n",
        "        return (y_pred >= 0.5).astype(int)\n",
        "\n",
        "    def predict_proba(self, X):\n",
        "        \"\"\"Predict probabilities\"\"\"\n",
        "        return self.forward_pass(X)"
      ]
    },
    {
      "cell_type": "markdown",
      "metadata": {
        "id": "3h8FtO_x0Ghb"
      },
      "source": [
        "**LOAD** **DATA**"
      ]
    },
    {
      "cell_type": "code",
      "execution_count": 2,
      "metadata": {
        "colab": {
          "base_uri": "https://localhost:8080/"
        },
        "id": "H7vHc55qo2_Q",
        "outputId": "85ee507c-f6d2-4680-d7d1-8c5afeb0e936"
      },
      "outputs": [
        {
          "name": "stdout",
          "output_type": "stream",
          "text": [
            "Dataset loaded from: datasetiris.xlsx\n",
            "Dataset shape: (100, 5)\n",
            "Columns: ['COL1', 'COL2', 'COL3', 'COL4', 'TARGET']\n",
            "\n",
            "Dataset Info:\n",
            "<class 'pandas.core.frame.DataFrame'>\n",
            "RangeIndex: 100 entries, 0 to 99\n",
            "Data columns (total 5 columns):\n",
            " #   Column  Non-Null Count  Dtype  \n",
            "---  ------  --------------  -----  \n",
            " 0   COL1    100 non-null    float64\n",
            " 1   COL2    100 non-null    float64\n",
            " 2   COL3    100 non-null    float64\n",
            " 3   COL4    100 non-null    float64\n",
            " 4   TARGET  100 non-null    object \n",
            "dtypes: float64(4), object(1)\n",
            "memory usage: 4.0+ KB\n",
            "None\n",
            "\n",
            "Class distribution:\n",
            "TARGET\n",
            "Iris-setosa        50\n",
            "Iris-versicolor    50\n",
            "Name: count, dtype: int64\n",
            "First 5 rows:\n",
            "   COL1  COL2  COL3  COL4       TARGET\n",
            "0   5.1   3.5   1.4   0.2  Iris-setosa\n",
            "1   4.9   3.0   1.4   0.2  Iris-setosa\n",
            "2   4.7   3.2   1.3   0.2  Iris-setosa\n",
            "3   4.6   3.1   1.5   0.2  Iris-setosa\n",
            "4   5.0   3.6   1.4   0.2  Iris-setosa\n",
            "\n",
            "Last 5 rows:\n",
            "    COL1  COL2  COL3  COL4           TARGET\n",
            "95   5.7   3.0   4.2   0.2  Iris-versicolor\n",
            "96   5.7   2.9   4.2   0.2  Iris-versicolor\n",
            "97   6.2   2.9   4.3   0.2  Iris-versicolor\n",
            "98   5.1   2.5   3.0   0.2  Iris-versicolor\n",
            "99   5.7   2.8   4.1   0.2  Iris-versicolor\n"
          ]
        }
      ],
      "source": [
        "file_path = \"datasetiris.xlsx\"\n",
        "df = pd.read_excel(file_path)\n",
        "\n",
        "print(f\"Dataset loaded from: {file_path}\")\n",
        "print(f\"Dataset shape: {df.shape}\")\n",
        "print(f\"Columns: {list(df.columns)}\")\n",
        "\n",
        "print(f\"\\nDataset Info:\")\n",
        "print(df.info())\n",
        "\n",
        "print(f\"\\nClass distribution:\")\n",
        "if 'species' in df.columns:\n",
        "    print(df['species'].value_counts())\n",
        "elif df.columns[-1] in df.select_dtypes(include=['object']).columns:\n",
        "    print(df[df.columns[-1]].value_counts())\n",
        "\n",
        "print(\"First 5 rows:\")\n",
        "print(df.head())\n",
        "\n",
        "print(\"\\nLast 5 rows:\")\n",
        "print(df.tail())"
      ]
    },
    {
      "cell_type": "markdown",
      "metadata": {
        "id": "j_4u7R3K0KAN"
      },
      "source": [
        "**PREPROCESSING**"
      ]
    },
    {
      "cell_type": "code",
      "execution_count": 3,
      "metadata": {
        "colab": {
          "base_uri": "https://localhost:8080/"
        },
        "id": "qfeniKPlo8mV",
        "outputId": "6d98e383-9803-4f72-c138-41dee38ed665"
      },
      "outputs": [
        {
          "name": "stdout",
          "output_type": "stream",
          "text": [
            "Target column: TARGET\n",
            "Feature columns: ['COL1', 'COL2', 'COL3', 'COL4']\n",
            "\n",
            "Original data shapes:\n",
            "Features (X): (100, 4)\n",
            "Target (y): (100,)\n",
            "\n",
            "Target encoding:\n",
            "Original classes: ['Iris-setosa' 'Iris-versicolor']\n",
            "Encoded classes: [0 1]\n",
            "Class mapping: {'Iris-setosa': 0, 'Iris-versicolor': 1}\n",
            "\n",
            "Final data for binary classification:\n",
            "Features shape: (100, 4)\n",
            "Target shape: (100,)\n",
            "Classes: ['Iris-setosa' 'Iris-versicolor']\n",
            "Class distribution: [50 50]\n",
            "Training set: 80 samples\n",
            "Validation set: 20 samples\n",
            "\n",
            "Standardizing features...\n",
            "Data preprocessing completed!\n",
            "Training set shape: (80, 4)\n",
            "Validation set shape: (20, 4)\n"
          ]
        }
      ],
      "source": [
        "# Identify target and feature columns\n",
        "target_column = df.columns[-1]\n",
        "feature_columns = [col for col in df.columns if col != target_column]\n",
        "\n",
        "print(f\"Target column: {target_column}\")\n",
        "print(f\"Feature columns: {feature_columns}\")\n",
        "\n",
        "# Extract features and target\n",
        "X = df[feature_columns].values\n",
        "y = df[target_column].values\n",
        "\n",
        "print(f\"\\nOriginal data shapes:\")\n",
        "print(f\"Features (X): {X.shape}\")\n",
        "print(f\"Target (y): {y.shape}\")\n",
        "\n",
        "# Encode target variable for binary classification\n",
        "le = LabelEncoder()\n",
        "y_encoded = le.fit_transform(y)\n",
        "\n",
        "# Check classes\n",
        "unique_classes = np.unique(y_encoded)\n",
        "class_names = le.classes_\n",
        "\n",
        "print(f\"\\nTarget encoding:\")\n",
        "print(f\"Original classes: {class_names}\")\n",
        "print(f\"Encoded classes: {unique_classes}\")\n",
        "print(f\"Class mapping: {dict(zip(class_names, unique_classes))}\")\n",
        "\n",
        "print(f\"\\nFinal data for binary classification:\")\n",
        "print(f\"Features shape: {X.shape}\")\n",
        "print(f\"Target shape: {y_encoded.shape}\")\n",
        "print(f\"Classes: {class_names}\")\n",
        "print(f\"Class distribution: {np.bincount(y_encoded)}\")\n",
        "\n",
        "# Split data (80% train, 20% validation)\n",
        "X_train, X_val, y_train, y_val = train_test_split(\n",
        "    X, y_encoded, test_size=0.2, random_state=42, stratify=y_encoded\n",
        ")\n",
        "\n",
        "print(f\"Training set: {X_train.shape[0]} samples\")\n",
        "print(f\"Validation set: {X_val.shape[0]} samples\")\n",
        "\n",
        "\n",
        "# Standardize features\n",
        "print(f\"\\nStandardizing features...\")\n",
        "scaler = StandardScaler()\n",
        "X_train_scaled = scaler.fit_transform(X_train)\n",
        "X_val_scaled = scaler.transform(X_val)\n",
        "\n",
        "print(\"Data preprocessing completed!\")\n",
        "print(f\"Training set shape: {X_train_scaled.shape}\")\n",
        "print(f\"Validation set shape: {X_val_scaled.shape}\")"
      ]
    },
    {
      "cell_type": "markdown",
      "metadata": {
        "id": "ca45uFru0PpW"
      },
      "source": [
        "**MODEL TRAINING**"
      ]
    },
    {
      "cell_type": "code",
      "execution_count": 4,
      "metadata": {
        "colab": {
          "base_uri": "https://localhost:8080/"
        },
        "id": "7jDQpiDdpCOG",
        "outputId": "611fcd83-9742-4193-e3d4-0c735fa04298"
      },
      "outputs": [
        {
          "name": "stdout",
          "output_type": "stream",
          "text": [
            "Training SLP with 80 training samples and 20 validation samples\n",
            "Features: 4\n",
            "Initial weights: [0.5 0.5 0.5 0.5]\n",
            "Initial bias: 0.5\n",
            "--------------------------------------------------------------------------------\n",
            "Epoch 1/5\n",
            "  Train - Loss: 0.1809, Accuracy: 0.7125\n",
            "  Val   - Loss: 0.2063, Accuracy: 0.6500\n",
            "--------------------------------------------------\n",
            "Epoch 2/5\n",
            "  Train - Loss: 0.1674, Accuracy: 0.7625\n",
            "  Val   - Loss: 0.1936, Accuracy: 0.6500\n",
            "--------------------------------------------------\n",
            "Epoch 3/5\n",
            "  Train - Loss: 0.1550, Accuracy: 0.8125\n",
            "  Val   - Loss: 0.1818, Accuracy: 0.7000\n",
            "--------------------------------------------------\n",
            "Epoch 4/5\n",
            "  Train - Loss: 0.1436, Accuracy: 0.8125\n",
            "  Val   - Loss: 0.1708, Accuracy: 0.7000\n",
            "--------------------------------------------------\n",
            "Epoch 5/5\n",
            "  Train - Loss: 0.1332, Accuracy: 0.8375\n",
            "  Val   - Loss: 0.1607, Accuracy: 0.7000\n",
            "--------------------------------------------------\n",
            "Training completed!\n",
            "\n",
            "============================================================\n",
            "DETAILED TRAINING METRICS\n",
            "============================================================\n",
            "Epoch    Train Loss   Train Acc    Val Loss     Val Acc     \n",
            "------------------------------------------------------------\n",
            "1        0.1809       0.7125       0.2063       0.6500      \n",
            "2        0.1674       0.7625       0.1936       0.6500      \n",
            "3        0.1550       0.8125       0.1818       0.7000      \n",
            "4        0.1436       0.8125       0.1708       0.7000      \n",
            "5        0.1332       0.8375       0.1607       0.7000      \n",
            "\n",
            "============================================================\n",
            "FINAL MODEL EVALUATION\n",
            "============================================================\n",
            "Final Training Accuracy: 0.8375 (83.75%)\n",
            "Final Training Loss: 0.1332\n",
            "Final Validation Accuracy: 0.7000 (70.00%)\n",
            "Final Validation Loss: 0.1607\n",
            "\n",
            "Final Model Parameters:\n",
            "Weights: [0.59988758 0.33612129 0.6645071  0.5       ]\n",
            "Bias: 0.4516303532620008\n"
          ]
        }
      ],
      "source": [
        "# Model configuration\n",
        "learning_rate = 0.1\n",
        "epochs = 5\n",
        "initial_weight = 0.5\n",
        "\n",
        "# Create and train model\n",
        "slp = SingleLayerPerceptron(\n",
        "    learning_rate=learning_rate,\n",
        "    epochs=epochs,\n",
        "    initial_weight=initial_weight\n",
        ")\n",
        "\n",
        "slp.fit(X_train_scaled, y_train, X_val_scaled, y_val)\n",
        "\n",
        "# Print detailed metrics table\n",
        "print(\"\\n\" + \"=\"*60)\n",
        "print(\"DETAILED TRAINING METRICS\")\n",
        "print(\"=\"*60)\n",
        "\n",
        "print(f\"{'Epoch':<8} {'Train Loss':<12} {'Train Acc':<12} {'Val Loss':<12} {'Val Acc':<12}\")\n",
        "print(\"-\" * 60)\n",
        "\n",
        "for epoch in range(len(slp.train_accuracy_history)):\n",
        "    train_loss = slp.train_loss_history[epoch]\n",
        "    train_acc = slp.train_accuracy_history[epoch]\n",
        "    val_loss = slp.val_loss_history[epoch]\n",
        "    val_acc = slp.val_accuracy_history[epoch]\n",
        "\n",
        "    print(f\"{epoch+1:<8} {train_loss:<12.4f} {train_acc:<12.4f} {val_loss:<12.4f} {val_acc:<12.4f}\")\n",
        "\n",
        "# Final evaluation\n",
        "print(\"\\n\" + \"=\"*60)\n",
        "print(\"FINAL MODEL EVALUATION\")\n",
        "print(\"=\"*60)\n",
        "\n",
        "final_train_acc = slp.train_accuracy_history[-1]\n",
        "final_train_loss = slp.train_loss_history[-1]\n",
        "final_val_acc = slp.val_accuracy_history[-1]\n",
        "final_val_loss = slp.val_loss_history[-1]\n",
        "\n",
        "print(f\"Final Training Accuracy: {final_train_acc:.4f} ({final_train_acc*100:.2f}%)\")\n",
        "print(f\"Final Training Loss: {final_train_loss:.4f}\")\n",
        "print(f\"Final Validation Accuracy: {final_val_acc:.4f} ({final_val_acc*100:.2f}%)\")\n",
        "print(f\"Final Validation Loss: {final_val_loss:.4f}\")\n",
        "\n",
        "print(f\"\\nFinal Model Parameters:\")\n",
        "print(f\"Weights: {slp.weights}\")\n",
        "print(f\"Bias: {slp.bias}\")"
      ]
    },
    {
      "cell_type": "markdown",
      "metadata": {
        "id": "-DZITAxD0UoY"
      },
      "source": [
        "**VISUALISASI**"
      ]
    },
    {
      "cell_type": "code",
      "execution_count": 5,
      "metadata": {
        "colab": {
          "base_uri": "https://localhost:8080/",
          "height": 1000
        },
        "id": "kLam4VojpIBX",
        "outputId": "3911818b-2f21-4ead-8a77-21bfa90efaaa"
      },
      "outputs": [
        {
          "name": "stderr",
          "output_type": "stream",
          "text": [
            "C:\\Users\\HP\\AppData\\Local\\Temp\\ipykernel_15372\\677283806.py:8: UserWarning: color is redundantly defined by the 'color' keyword argument and the fmt string \"b-o\" (-> color='b'). The keyword argument will take precedence.\n",
            "  ax1.plot(epochs, slp.train_accuracy_history, 'b-o', linewidth=2, markersize=6,\n",
            "C:\\Users\\HP\\AppData\\Local\\Temp\\ipykernel_15372\\677283806.py:10: UserWarning: color is redundantly defined by the 'color' keyword argument and the fmt string \"r-s\" (-> color='r'). The keyword argument will take precedence.\n",
            "  ax1.plot(epochs, slp.val_accuracy_history, 'r-s', linewidth=2, markersize=6,\n",
            "C:\\Users\\HP\\AppData\\Local\\Temp\\ipykernel_15372\\677283806.py:25: UserWarning: color is redundantly defined by the 'color' keyword argument and the fmt string \"b-o\" (-> color='b'). The keyword argument will take precedence.\n",
            "  ax2.plot(epochs, slp.train_loss_history, 'b-o', linewidth=2, markersize=6,\n",
            "C:\\Users\\HP\\AppData\\Local\\Temp\\ipykernel_15372\\677283806.py:27: UserWarning: color is redundantly defined by the 'color' keyword argument and the fmt string \"r-s\" (-> color='r'). The keyword argument will take precedence.\n",
            "  ax2.plot(epochs, slp.val_loss_history, 'r-s', linewidth=2, markersize=6,\n"
          ]
        },
        {
          "data": {
            "image/png": "[encoded data removed]",
            "text/plain": [
              "<Figure size 1000x1000 with 2 Axes>"
            ]
          },
          "metadata": {},
          "output_type": "display_data"
        }
      ],
      "source": [
        "# Create training metrics plots\n",
        "epochs = range(1, len(slp.train_accuracy_history) + 1)\n",
        "\n",
        "# Create figure with 2 subplots\n",
        "fig, (ax1, ax2) = plt.subplots(2, 1, figsize=(10, 10))\n",
        "\n",
        "# Plot 1: GRAFIK AKURASI\n",
        "ax1.plot(epochs, slp.train_accuracy_history, 'b-o', linewidth=2, markersize=6,\n",
        "         label='TRAIN', color='#1f77b4')\n",
        "ax1.plot(epochs, slp.val_accuracy_history, 'r-s', linewidth=2, markersize=6,\n",
        "         label='VAL', color='#ff7f0e')\n",
        "\n",
        "ax1.set_title('GRAFIK AKURASI', fontsize=14, fontweight='bold', pad=20)\n",
        "ax1.set_xlabel('EPOCH', fontsize=12)\n",
        "ax1.set_ylabel('', fontsize=12)\n",
        "ax1.legend(loc='lower right')\n",
        "ax1.grid(True, alpha=0.3)\n",
        "ax1.set_ylim(0, 1.1)\n",
        "ax1.set_xticks(epochs)\n",
        "\n",
        "# Set y-axis ticks\n",
        "ax1.set_yticks([0.00, 0.25, 0.50, 0.75, 1.00])\n",
        "\n",
        "# Plot 2: GRAFIK LOSS\n",
        "ax2.plot(epochs, slp.train_loss_history, 'b-o', linewidth=2, markersize=6,\n",
        "         label='TRAIN', color='#1f77b4')\n",
        "ax2.plot(epochs, slp.val_loss_history, 'r-s', linewidth=2, markersize=6,\n",
        "         label='VAL', color='#ff7f0e')\n",
        "\n",
        "ax2.set_title('GRAFIK LOSS', fontsize=14, fontweight='bold', pad=20)\n",
        "ax2.set_xlabel('EPOCH', fontsize=12)\n",
        "ax2.set_ylabel('', fontsize=12)\n",
        "ax2.legend(loc='upper right')\n",
        "ax2.grid(True, alpha=0.3)\n",
        "ax2.set_xticks(epochs)\n",
        "\n",
        "# Set y-axis ticks for loss\n",
        "ax2.set_yticks([0.00, 0.25, 0.50, 0.75, 1.00])\n",
        "ax2.set_ylim(0, 1.1)\n",
        "\n",
        "plt.tight_layout()\n",
        "plt.show()"
      ]
    }
  ],
  "metadata": {
    "colab": {
      "provenance": []
    },
    "kernelspec": {
      "display_name": "Python 3",
      "name": "python3"
    },
    "language_info": {
      "codemirror_mode": {
        "name": "ipython",
        "version": 3
      },
      "file_extension": ".py",
      "mimetype": "text/x-python",
      "name": "python",
      "nbconvert_exporter": "python",
      "pygments_lexer": "ipython3",
      "version": "3.8.10"
    }
  },
  "nbformat": 4,
  "nbformat_minor": 0
}
